{
  "nbformat": 4,
  "nbformat_minor": 0,
  "metadata": {
    "colab": {
      "provenance": [],
      "authorship_tag": "ABX9TyOBc5V+Qpg2ztnWnDuPTsHW",
      "include_colab_link": true
    },
    "kernelspec": {
      "name": "python3",
      "display_name": "Python 3"
    },
    "language_info": {
      "name": "python"
    }
  },
  "cells": [
    {
      "cell_type": "markdown",
      "metadata": {
        "id": "view-in-github",
        "colab_type": "text"
      },
      "source": [
        "<a href=\"https://colab.research.google.com/github/sanchalee19/Celebal-tasks-/blob/main/Task1.ipynb\" target=\"_parent\"><img src=\"https://colab.research.google.com/assets/colab-badge.svg\" alt=\"Open In Colab\"/></a>"
      ]
    },
    {
      "cell_type": "code",
      "execution_count": null,
      "metadata": {
        "id": "Grhfss_TbOnJ"
      },
      "outputs": [],
      "source": [
        "# Lower Triangular Pattern\n",
        "def lower_triangular(n):\n",
        "    for i in range(1, n + 1):\n",
        "        print('*' * i)"
      ]
    },
    {
      "cell_type": "code",
      "source": [
        "# Upper Triangular Pattern\n",
        "def upper_triangular(n):\n",
        "    for i in range(n, 0, -1):\n",
        "        print('*' * i)"
      ],
      "metadata": {
        "id": "-L-KhcydbrtE"
      },
      "execution_count": null,
      "outputs": []
    },
    {
      "cell_type": "code",
      "source": [
        "# Pyramid Pattern\n",
        "def pyramid(n):\n",
        "    for i in range(n):\n",
        "        print(' ' * (n - i - 1) + '*' * (2 * i + 1))"
      ],
      "metadata": {
        "id": "NzXDsvuZbvWc"
      },
      "execution_count": null,
      "outputs": []
    },
    {
      "cell_type": "code",
      "source": [
        "n = 5\n",
        "print(\"Lower Triangular Pattern\")\n",
        "lower_triangular(n)\n",
        "print(\"\\nUpper Triangular Pattern\")\n",
        "upper_triangular(n)\n",
        "print(\"\\nPyramid Pattern\")\n",
        "pyramid(n)"
      ],
      "metadata": {
        "colab": {
          "base_uri": "https://localhost:8080/"
        },
        "id": "fTFBuc9-byBL",
        "outputId": "0cd7925f-ffe5-448f-8860-2769765d8fe9"
      },
      "execution_count": null,
      "outputs": [
        {
          "output_type": "stream",
          "name": "stdout",
          "text": [
            "Lower Triangular Pattern\n",
            "*\n",
            "**\n",
            "***\n",
            "****\n",
            "*****\n",
            "\n",
            "Upper Triangular Pattern\n",
            "*****\n",
            "****\n",
            "***\n",
            "**\n",
            "*\n",
            "\n",
            "Pyramid Pattern\n",
            "    *\n",
            "   ***\n",
            "  *****\n",
            " *******\n",
            "*********\n"
          ]
        }
      ]
    }
  ]
}